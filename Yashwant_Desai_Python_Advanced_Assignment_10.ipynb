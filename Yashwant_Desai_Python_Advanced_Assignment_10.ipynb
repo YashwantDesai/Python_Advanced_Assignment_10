{
 "cells": [
  {
   "cell_type": "markdown",
   "id": "0c27a818",
   "metadata": {},
   "source": [
    "# Yashwant Desai –  Python_Advanced_Assignment_10"
   ]
  },
  {
   "cell_type": "markdown",
   "id": "f424a101",
   "metadata": {},
   "source": [
    "# Q1. What is the difference between __getattr__ and __getattribute__?"
   ]
  },
  {
   "cell_type": "raw",
   "id": "d87ce4ce",
   "metadata": {},
   "source": [
    "Below are differences between __getattr__ and __getattribute__\n",
    "\n",
    "1 __getattr__ called when accessing non-existent attributes \n",
    " __getattribute__ called for all attribute access (existing and non-existent).\n",
    "\n",
    "2 __getattr__ customizes access for non-existent attributes\n",
    " __getattribute__ customizes access for all attributes, existing and non-existent.\n",
    "\n",
    "3 __getattr__ ues for creating or returning values for attributes that are not present \n",
    " __getattribute__  use for implementing custom behavior for all attribute access.\n",
    "\n",
    "4 __getattr__ does not override default attribute access for existing attributes \n",
    " __getattribute__ can override default attribute access for all attributes, including built-in ones.\n",
    "\n",
    "5 No special caution needed for __getattr__ as it doesn't interfere with existing attributes  \n",
    " __getattribute__ requires careful handling to avoid unintended side effects, as it intercepts all attribute access."
   ]
  },
  {
   "cell_type": "code",
   "execution_count": 1,
   "id": "e69a3885",
   "metadata": {},
   "outputs": [
    {
     "name": "stdout",
     "output_type": "stream",
     "text": [
      "some_attribute attribute does not exist.\n"
     ]
    }
   ],
   "source": [
    "class Sample:\n",
    "    def __getattr__(self, name):\n",
    "        return f\"{name} attribute does not exist.\"\n",
    "obj = Sample()\n",
    "print(obj.some_attribute)"
   ]
  },
  {
   "cell_type": "code",
   "execution_count": 2,
   "id": "12c440d2",
   "metadata": {},
   "outputs": [
    {
     "name": "stdout",
     "output_type": "stream",
     "text": [
      "AttributeError: 'Sample' object has no attribute 'some_attribute'\n",
      "None\n"
     ]
    }
   ],
   "source": [
    "class Sample:\n",
    "    pass\n",
    "obj = Sample()\n",
    "try:\n",
    "    value = obj.some_attribute\n",
    "except AttributeError as e:\n",
    "    print(f\"AttributeError: {e}\")\n",
    "    value = None\n",
    "print(value)\n"
   ]
  },
  {
   "cell_type": "markdown",
   "id": "6e3783cf",
   "metadata": {},
   "source": [
    "# Q2. What is the difference between properties and descriptors?"
   ]
  },
  {
   "cell_type": "raw",
   "id": "7f271e2a",
   "metadata": {},
   "source": [
    "Below are differences between properties and descriptor.\n",
    "\n",
    "1 Properties use for customize access to a specific attribute. \n",
    "  Descriptor use for customize access to multiple attributes or provide general attribute access behavior.\n",
    "\n",
    "2 Properties defined using the property function or the @property decorator, associated with a specific attribute. \n",
    "  Descriptor defined by implementing classes with __get__, __set__, and optionally __delete__ methods, used as descriptors and associated with attributes in other classes. \n",
    "\n",
    "3 Properties used for straightforward cases where custom behavior is needed for a single attribute.\n",
    "  Descriptor used for complex attribute access scenarios or when the same behavior needs to be applied to multiple attributes.\n",
    "  \n",
    "4 Properties associated with a specific attribute within a class.\n",
    "  Descriptor can be associated with multiple attributes across different classes.\n",
    "  \n",
    "5 Properties provides custom getter, setter, and deleter methods for a single attribute.\n",
    "  Descriptor provides custom __get__, __set__, and optionally __delete__ methods for attribute access.\n",
    "  \n",
    "6 Properties often used to encapsulate simple attribute access logic.\n",
    "  Descriptor used for encapsulating complex attribute access logic in a reusable way.\n"
   ]
  },
  {
   "cell_type": "code",
   "execution_count": 3,
   "id": "d15be581",
   "metadata": {},
   "outputs": [
    {
     "name": "stdout",
     "output_type": "stream",
     "text": [
      "5\n"
     ]
    }
   ],
   "source": [
    "class Circle:\n",
    "    def __init__(self, radius):\n",
    "        self._radius = radius\n",
    "\n",
    "    @property\n",
    "    def radius(self):\n",
    "        return self._radius\n",
    "\n",
    "    @radius.setter\n",
    "    def radius(self, value):\n",
    "        if value < 0:\n",
    "            raise ValueError(\"Radius cannot be negative.\")\n",
    "        self._radius = value\n",
    "\n",
    "c = Circle(5)\n",
    "print(c.radius)\n",
    "c.radius = 10"
   ]
  },
  {
   "cell_type": "code",
   "execution_count": 4,
   "id": "51c684fb",
   "metadata": {},
   "outputs": [
    {
     "name": "stdout",
     "output_type": "stream",
     "text": [
      "5\n"
     ]
    }
   ],
   "source": [
    "class NonNegative:\n",
    "    def __get__(self, instance, owner):\n",
    "        return instance._value\n",
    "\n",
    "    def __set__(self, instance, value):\n",
    "        if value < 0:\n",
    "            raise ValueError(\"Value cannot be negative.\")\n",
    "        instance._value = value\n",
    "\n",
    "class Number:\n",
    "    def __init__(self, value):\n",
    "        self._value = value\n",
    "\n",
    "    value = NonNegative()\n",
    "\n",
    "n = Number(5)\n",
    "print(n.value)\n",
    "n.value = 10 "
   ]
  },
  {
   "cell_type": "markdown",
   "id": "cc064f82",
   "metadata": {},
   "source": [
    "# Q3. What are the key differences in functionality between __getattr__ and __getattribute__, as well as properties and descriptors?"
   ]
  },
  {
   "cell_type": "raw",
   "id": "bcdac995",
   "metadata": {},
   "source": [
    "Below are differences between __getattr__ and __getattribute__\n",
    "1 __getattr__ called when accessing non-existent attributes. \n",
    "  __getattribute__ called for all attribute access (existing and non-existent).\n",
    "\n",
    "2 __getattr__ customizes access for non-existent attributes. \n",
    "  __getattribute__ customizes access for all attributes, existing and non-existent.\n",
    "\n",
    "3 __getattr__ ues for creating or returning values for attributes that are not present. \n",
    "  __getattribute__  use for implementing custom behavior for all attribute access.\n",
    "\n",
    "4 __getattr__ does not override default attribute access for existing attributes.\n",
    "  __getattribute__ can override default attribute access for all attributes, including built-in ones.\n",
    "  \n",
    "Below are differences between properties and descriptor.\n",
    "\n",
    "1 Properties use for customize access to a specific attribute. \n",
    "  Descriptor use for customize access to multiple attributes or provide general attribute access behavior.\n",
    "\n",
    "2 Properties defined using the property function or the @property decorator, associated with a specific attribute. \n",
    "  Descriptor defined by implementing classes with __get__, __set__, and optionally __delete__ methods, used as descriptors and associated with attributes in other classes. \n",
    "  \n",
    "3 Properties associated with a specific attribute within a class.\n",
    "  Descriptor can be associated with multiple attributes across different classes.\n",
    "  \n",
    "4 Properties provides custom getter, setter, and deleter methods for a single attribute.\n",
    "  Descriptor provides custom __get__, __set__, and optionally __delete__ methods for attribute access.\n",
    "  \n",
    "5 Properties often used to encapsulate simple attribute access logic.\n",
    "  Descriptor used for encapsulating complex attribute access logic in a reusable way.\n",
    "  \n",
    "\n",
    "__getattr__ and __getattribute__ are used to customize attribute access behavior, with __getattr__ focusing on non-existent attributes and __getattribute__ affecting all attribute access. Properties are suitable for customizing access to single attributes and provide a simple mechanism for defining getter, setter, and deleter methods. Descriptors, on the other hand, offer greater flexibility and reusability for customizing access to multiple attributes, often across different classes, and can encapsulate complex attribute access logic.\n",
    "\n"
   ]
  },
  {
   "cell_type": "markdown",
   "id": "4530e1ef",
   "metadata": {},
   "source": [
    "# I have  re-checked assignment number 10 multiple time and there are only 3 questions."
   ]
  },
  {
   "cell_type": "markdown",
   "id": "8af9d69e",
   "metadata": {},
   "source": [
    "# Done all 3 questions "
   ]
  },
  {
   "cell_type": "markdown",
   "id": "a04469f9",
   "metadata": {},
   "source": [
    "# Regards,Yashwant"
   ]
  }
 ],
 "metadata": {
  "kernelspec": {
   "display_name": "Python 3 (ipykernel)",
   "language": "python",
   "name": "python3"
  },
  "language_info": {
   "codemirror_mode": {
    "name": "ipython",
    "version": 3
   },
   "file_extension": ".py",
   "mimetype": "text/x-python",
   "name": "python",
   "nbconvert_exporter": "python",
   "pygments_lexer": "ipython3",
   "version": "3.9.13"
  }
 },
 "nbformat": 4,
 "nbformat_minor": 5
}
